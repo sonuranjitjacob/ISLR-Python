{
 "cells": [
  {
   "cell_type": "markdown",
   "metadata": {},
   "source": [
    "# 3.6.2 Simple Linear Regression"
   ]
  },
  {
   "cell_type": "code",
   "execution_count": 4,
   "metadata": {},
   "outputs": [],
   "source": [
    "#load required libraries\n",
    "import pandas as pd\n",
    "import numpy as np"
   ]
  },
  {
   "cell_type": "code",
   "execution_count": 5,
   "metadata": {},
   "outputs": [
    {
     "data": {
      "text/html": [
       "<div>\n",
       "<style scoped>\n",
       "    .dataframe tbody tr th:only-of-type {\n",
       "        vertical-align: middle;\n",
       "    }\n",
       "\n",
       "    .dataframe tbody tr th {\n",
       "        vertical-align: top;\n",
       "    }\n",
       "\n",
       "    .dataframe thead th {\n",
       "        text-align: right;\n",
       "    }\n",
       "</style>\n",
       "<table border=\"1\" class=\"dataframe\">\n",
       "  <thead>\n",
       "    <tr style=\"text-align: right;\">\n",
       "      <th></th>\n",
       "      <th>crim</th>\n",
       "      <th>zn</th>\n",
       "      <th>indus</th>\n",
       "      <th>chas</th>\n",
       "      <th>nox</th>\n",
       "      <th>rm</th>\n",
       "      <th>age</th>\n",
       "      <th>dis</th>\n",
       "      <th>rad</th>\n",
       "      <th>tax</th>\n",
       "      <th>ptratio</th>\n",
       "      <th>black</th>\n",
       "      <th>lstat</th>\n",
       "      <th>medv</th>\n",
       "    </tr>\n",
       "  </thead>\n",
       "  <tbody>\n",
       "    <tr>\n",
       "      <th>0</th>\n",
       "      <td>0.00632</td>\n",
       "      <td>18.0</td>\n",
       "      <td>2.31</td>\n",
       "      <td>0</td>\n",
       "      <td>0.538</td>\n",
       "      <td>6.575</td>\n",
       "      <td>65.2</td>\n",
       "      <td>4.0900</td>\n",
       "      <td>1</td>\n",
       "      <td>296</td>\n",
       "      <td>15.3</td>\n",
       "      <td>396.90</td>\n",
       "      <td>4.98</td>\n",
       "      <td>24.0</td>\n",
       "    </tr>\n",
       "    <tr>\n",
       "      <th>1</th>\n",
       "      <td>0.02731</td>\n",
       "      <td>0.0</td>\n",
       "      <td>7.07</td>\n",
       "      <td>0</td>\n",
       "      <td>0.469</td>\n",
       "      <td>6.421</td>\n",
       "      <td>78.9</td>\n",
       "      <td>4.9671</td>\n",
       "      <td>2</td>\n",
       "      <td>242</td>\n",
       "      <td>17.8</td>\n",
       "      <td>396.90</td>\n",
       "      <td>9.14</td>\n",
       "      <td>21.6</td>\n",
       "    </tr>\n",
       "    <tr>\n",
       "      <th>2</th>\n",
       "      <td>0.02729</td>\n",
       "      <td>0.0</td>\n",
       "      <td>7.07</td>\n",
       "      <td>0</td>\n",
       "      <td>0.469</td>\n",
       "      <td>7.185</td>\n",
       "      <td>61.1</td>\n",
       "      <td>4.9671</td>\n",
       "      <td>2</td>\n",
       "      <td>242</td>\n",
       "      <td>17.8</td>\n",
       "      <td>392.83</td>\n",
       "      <td>4.03</td>\n",
       "      <td>34.7</td>\n",
       "    </tr>\n",
       "    <tr>\n",
       "      <th>3</th>\n",
       "      <td>0.03237</td>\n",
       "      <td>0.0</td>\n",
       "      <td>2.18</td>\n",
       "      <td>0</td>\n",
       "      <td>0.458</td>\n",
       "      <td>6.998</td>\n",
       "      <td>45.8</td>\n",
       "      <td>6.0622</td>\n",
       "      <td>3</td>\n",
       "      <td>222</td>\n",
       "      <td>18.7</td>\n",
       "      <td>394.63</td>\n",
       "      <td>2.94</td>\n",
       "      <td>33.4</td>\n",
       "    </tr>\n",
       "    <tr>\n",
       "      <th>4</th>\n",
       "      <td>0.06905</td>\n",
       "      <td>0.0</td>\n",
       "      <td>2.18</td>\n",
       "      <td>0</td>\n",
       "      <td>0.458</td>\n",
       "      <td>7.147</td>\n",
       "      <td>54.2</td>\n",
       "      <td>6.0622</td>\n",
       "      <td>3</td>\n",
       "      <td>222</td>\n",
       "      <td>18.7</td>\n",
       "      <td>396.90</td>\n",
       "      <td>5.33</td>\n",
       "      <td>36.2</td>\n",
       "    </tr>\n",
       "  </tbody>\n",
       "</table>\n",
       "</div>"
      ],
      "text/plain": [
       "      crim    zn  indus  chas    nox     rm   age     dis  rad  tax  ptratio  \\\n",
       "0  0.00632  18.0   2.31     0  0.538  6.575  65.2  4.0900    1  296     15.3   \n",
       "1  0.02731   0.0   7.07     0  0.469  6.421  78.9  4.9671    2  242     17.8   \n",
       "2  0.02729   0.0   7.07     0  0.469  7.185  61.1  4.9671    2  242     17.8   \n",
       "3  0.03237   0.0   2.18     0  0.458  6.998  45.8  6.0622    3  222     18.7   \n",
       "4  0.06905   0.0   2.18     0  0.458  7.147  54.2  6.0622    3  222     18.7   \n",
       "\n",
       "    black  lstat  medv  \n",
       "0  396.90   4.98  24.0  \n",
       "1  396.90   9.14  21.6  \n",
       "2  392.83   4.03  34.7  \n",
       "3  394.63   2.94  33.4  \n",
       "4  396.90   5.33  36.2  "
      ]
     },
     "execution_count": 5,
     "metadata": {},
     "output_type": "execute_result"
    }
   ],
   "source": [
    "data = pd.read_csv('Data/Boston.csv')\n",
    "data.head()"
   ]
  },
  {
   "cell_type": "markdown",
   "metadata": {},
   "source": [
    "Data consists of 506 neighbourhoods around Boston. There are 13 predictors like age (average age of houses), rm (avg number of rooms per house) and so on as shown in the table above. "
   ]
  },
  {
   "cell_type": "markdown",
   "metadata": {},
   "source": [
    "#### Fitting a linear regression model\n",
    "\n",
    "Fitting a simple linear regression model to the data with **medv** as the response and **lstat** as the predictor where, \n",
    "\n",
    "**medv**  - Median value of owner-occupied homes in $1000's \n",
    "\n",
    "**lstat** - % lower status of the population (explained in appendix)"
   ]
  },
  {
   "cell_type": "code",
   "execution_count": 6,
   "metadata": {
    "scrolled": false
   },
   "outputs": [
    {
     "name": "stdout",
     "output_type": "stream",
     "text": [
      "                            OLS Regression Results                            \n",
      "==============================================================================\n",
      "Dep. Variable:                   medv   R-squared:                       0.544\n",
      "Model:                            OLS   Adj. R-squared:                  0.543\n",
      "Method:                 Least Squares   F-statistic:                     601.6\n",
      "Date:                Tue, 23 Mar 2021   Prob (F-statistic):           5.08e-88\n",
      "Time:                        20:54:45   Log-Likelihood:                -1641.5\n",
      "No. Observations:                 506   AIC:                             3287.\n",
      "Df Residuals:                     504   BIC:                             3295.\n",
      "Df Model:                           1                                         \n",
      "Covariance Type:            nonrobust                                         \n",
      "==============================================================================\n",
      "                 coef    std err          t      P>|t|      [0.025      0.975]\n",
      "------------------------------------------------------------------------------\n",
      "Intercept     34.5538      0.563     61.415      0.000      33.448      35.659\n",
      "lstat         -0.9500      0.039    -24.528      0.000      -1.026      -0.874\n",
      "==============================================================================\n",
      "Omnibus:                      137.043   Durbin-Watson:                   0.892\n",
      "Prob(Omnibus):                  0.000   Jarque-Bera (JB):              291.373\n",
      "Skew:                           1.453   Prob(JB):                     5.36e-64\n",
      "Kurtosis:                       5.319   Cond. No.                         29.7\n",
      "==============================================================================\n",
      "\n",
      "Notes:\n",
      "[1] Standard Errors assume that the covariance matrix of the errors is correctly specified.\n"
     ]
    }
   ],
   "source": [
    "import statsmodels.api as sm\n",
    "from statsmodels.formula.api import ols\n",
    "import statsmodels.formula.api as smf\n",
    "\n",
    "fit1 = smf.ols('medv~lstat', data=data).fit()\n",
    "print(fit1.summary())"
   ]
  },
  {
   "cell_type": "markdown",
   "metadata": {},
   "source": [
    "#### Hypothesis test, t-statistic and p-value\n",
    "\n",
    "A hypothesis test can be done on the coefficients to check if there exists a relationship between lstat and medv. \n",
    "\n",
    "We assume the null hypothesis to be $$H_{0}: \\text{There is no relationship between lstat and medv}$$\n",
    "\n",
    "versus the alternate hypothesis $$H_{a}: \\text{There exists some relationship between lstat and medv}$$\n",
    "\n",
    "\n",
    "If ${\\beta_{1}}$ is the true coefficient of lstat when the linear regression model is fitted to the data, then\n",
    "\n",
    "$$H_{0}: \\beta_{1} = 0 $$ versus\n",
    "$$H_{a}: \\beta_{1} != 0 $$\n",
    "\n",
    "The t-statistic is defined as \n",
    "$$ t = (\\hat{\\beta} -  0) / SE(x) $$\n",
    "where $\\hat{\\beta_{1}}, 0$ are the calculated value of the parameter and the value assumed in the null hypothesis respectively. It calculates the number of standard deviations $\\hat{\\beta}$ is away from 0. \n",
    "\n",
    "In this situation, $\\hat{\\beta_{1}}$ can be the coefficient calculated for lstat in the above table. The null hypothesis is that this value is zero and based on the t-statistic, we calculate the p-value.\n",
    "\n",
    "#### How do we obtain the corresponding p-value?\n",
    "The p-value is obtained by looking up its corresponding value according to the value of the t-statistic. We use look up tables for this as the probability of the t-statistic being greater than a particular value ($P(t>= 2.75)$) is obtained by calculating the area under the distribution. Doing this is cumbersome and we can standardize the dataset to obtain a normal curve (with mean zero and standard deviation one) and use this single table to calculate the probabilities for any distribution as the t-distribution has a bell shape and is similar to the normal distribution if it has more than 30 data points. "
   ]
  },
  {
   "cell_type": "markdown",
   "metadata": {},
   "source": [
    "Each part of the above results can be accessed using tables as shown below"
   ]
  },
  {
   "cell_type": "code",
   "execution_count": 21,
   "metadata": {},
   "outputs": [
    {
     "data": {
      "text/html": [
       "<table class=\"simpletable\">\n",
       "<caption>OLS Regression Results</caption>\n",
       "<tr>\n",
       "  <th>Dep. Variable:</th>          <td>medv</td>       <th>  R-squared:         </th> <td>   0.544</td>\n",
       "</tr>\n",
       "<tr>\n",
       "  <th>Model:</th>                   <td>OLS</td>       <th>  Adj. R-squared:    </th> <td>   0.543</td>\n",
       "</tr>\n",
       "<tr>\n",
       "  <th>Method:</th>             <td>Least Squares</td>  <th>  F-statistic:       </th> <td>   601.6</td>\n",
       "</tr>\n",
       "<tr>\n",
       "  <th>Date:</th>             <td>Tue, 23 Mar 2021</td> <th>  Prob (F-statistic):</th> <td>5.08e-88</td>\n",
       "</tr>\n",
       "<tr>\n",
       "  <th>Time:</th>                 <td>06:19:21</td>     <th>  Log-Likelihood:    </th> <td> -1641.5</td>\n",
       "</tr>\n",
       "<tr>\n",
       "  <th>No. Observations:</th>      <td>   506</td>      <th>  AIC:               </th> <td>   3287.</td>\n",
       "</tr>\n",
       "<tr>\n",
       "  <th>Df Residuals:</th>          <td>   504</td>      <th>  BIC:               </th> <td>   3295.</td>\n",
       "</tr>\n",
       "<tr>\n",
       "  <th>Df Model:</th>              <td>     1</td>      <th>                     </th>     <td> </td>   \n",
       "</tr>\n",
       "<tr>\n",
       "  <th>Covariance Type:</th>      <td>nonrobust</td>    <th>                     </th>     <td> </td>   \n",
       "</tr>\n",
       "</table>"
      ],
      "text/plain": [
       "<class 'statsmodels.iolib.table.SimpleTable'>"
      ]
     },
     "execution_count": 21,
     "metadata": {},
     "output_type": "execute_result"
    }
   ],
   "source": [
    "fit1.summary().tables[0]"
   ]
  },
  {
   "cell_type": "markdown",
   "metadata": {},
   "source": [
    "The coefficient estimates are given in the table so the equation is of the form $$y = mx + c$$ and is \n",
    "\n",
    "$$medv = -0.95*lsat + 34.55$$\n",
    "\n",
    "The p-values and confidence interval is given for both the intercept and the lstat term as shown below."
   ]
  },
  {
   "cell_type": "code",
   "execution_count": 22,
   "metadata": {
    "scrolled": false
   },
   "outputs": [
    {
     "data": {
      "text/html": [
       "<table class=\"simpletable\">\n",
       "<tr>\n",
       "      <td></td>         <th>coef</th>     <th>std err</th>      <th>t</th>      <th>P>|t|</th>  <th>[0.025</th>    <th>0.975]</th>  \n",
       "</tr>\n",
       "<tr>\n",
       "  <th>Intercept</th> <td>   34.5538</td> <td>    0.563</td> <td>   61.415</td> <td> 0.000</td> <td>   33.448</td> <td>   35.659</td>\n",
       "</tr>\n",
       "<tr>\n",
       "  <th>lstat</th>     <td>   -0.9500</td> <td>    0.039</td> <td>  -24.528</td> <td> 0.000</td> <td>   -1.026</td> <td>   -0.874</td>\n",
       "</tr>\n",
       "</table>"
      ],
      "text/plain": [
       "<class 'statsmodels.iolib.table.SimpleTable'>"
      ]
     },
     "execution_count": 22,
     "metadata": {},
     "output_type": "execute_result"
    }
   ],
   "source": [
    "fit1.summary().tables[1]"
   ]
  },
  {
   "cell_type": "code",
   "execution_count": 23,
   "metadata": {},
   "outputs": [
    {
     "data": {
      "text/html": [
       "<table class=\"simpletable\">\n",
       "<tr>\n",
       "  <th>Omnibus:</th>       <td>137.043</td> <th>  Durbin-Watson:     </th> <td>   0.892</td>\n",
       "</tr>\n",
       "<tr>\n",
       "  <th>Prob(Omnibus):</th> <td> 0.000</td>  <th>  Jarque-Bera (JB):  </th> <td> 291.373</td>\n",
       "</tr>\n",
       "<tr>\n",
       "  <th>Skew:</th>          <td> 1.453</td>  <th>  Prob(JB):          </th> <td>5.36e-64</td>\n",
       "</tr>\n",
       "<tr>\n",
       "  <th>Kurtosis:</th>      <td> 5.319</td>  <th>  Cond. No.          </th> <td>    29.7</td>\n",
       "</tr>\n",
       "</table>"
      ],
      "text/plain": [
       "<class 'statsmodels.iolib.table.SimpleTable'>"
      ]
     },
     "execution_count": 23,
     "metadata": {},
     "output_type": "execute_result"
    }
   ],
   "source": [
    "fit1.summary().tables[2]"
   ]
  },
  {
   "cell_type": "markdown",
   "metadata": {},
   "source": [
    "Plotting the fitted line to the data:"
   ]
  },
  {
   "cell_type": "code",
   "execution_count": 7,
   "metadata": {
    "scrolled": false
   },
   "outputs": [
    {
     "data": {
      "image/png": "[encoded data removed]",
      "text/plain": [
       "<Figure size 360x360 with 1 Axes>"
      ]
     },
     "metadata": {
      "needs_background": "light"
     },
     "output_type": "display_data"
    }
   ],
   "source": [
    "import seaborn as sns\n",
    "import matplotlib.pyplot as plt\n",
    "ax = sns.lmplot(x=\"lstat\",y=\"medv\",data=data)"
   ]
  },
  {
   "cell_type": "markdown",
   "metadata": {},
   "source": [
    "#### Diagnostic plots"
   ]
  },
  {
   "cell_type": "markdown",
   "metadata": {},
   "source": [
    "It can be observed from the above plot that the data has a slightly non-linear relationship. \n",
    "\n",
    "Residual plots are used to see the quality of fit of the model. Residual plot consists of the fitted/predicted values vs. the difference between the predicted values and true/actual values. \n",
    "\n",
    "Plotting the residuals to check if there is any pattern:"
   ]
  },
  {
   "cell_type": "code",
   "execution_count": 8,
   "metadata": {
    "scrolled": false
   },
   "outputs": [
    {
     "data": {
      "image/png": "[encoded data removed]",
      "text/plain": [
       "<Figure size 432x288 with 1 Axes>"
      ]
     },
     "metadata": {
      "needs_background": "light"
     },
     "output_type": "display_data"
    }
   ],
   "source": [
    "import matplotlib.pyplot as plt\n",
    "\n",
    "y_pred = fit1.predict(data)\n",
    "residuals = data['medv'] - y_pred\n",
    "sns.residplot(x=y_pred, y=residuals)\n",
    "plt.xlabel('Fitted values')\n",
    "plt.ylabel('Residuals')\n",
    "plt.show()"
   ]
  },
  {
   "cell_type": "markdown",
   "metadata": {},
   "source": [
    "The residuals are not distributed evenly around a horizontal line drawn through the center of the plot. This indicates the difference between the prediction and actual values increases - the data does not have a linear relationship.\n",
    "\n",
    "Outliers can also be filtered out to improve the fit of the line. In practice, it is difficult to choose a threshold value for which a point should be considered an outlier. In this case we use studentized residuals which is calculated by dividing a residual by its estimated standard error. \n",
    "\n",
    "The values greater than |3| are considered possible outliers.  \n",
    "\n",
    "Plotting the studentized residuals:"
   ]
  },
  {
   "cell_type": "code",
   "execution_count": 9,
   "metadata": {
    "scrolled": true
   },
   "outputs": [
    {
     "data": {
      "image/png": "[encoded data removed]",
      "text/plain": [
       "<Figure size 432x288 with 1 Axes>"
      ]
     },
     "metadata": {
      "needs_background": "light"
     },
     "output_type": "display_data"
    }
   ],
   "source": [
    "from statsmodels.stats.outliers_influence import OLSInfluence\n",
    "influence = OLSInfluence(fit1)\n",
    "standardized_residuals = influence.resid_studentized_internal\n",
    "\n",
    "ax = sns.regplot(x=y_pred, y=standardized_residuals)\n",
    "plt.show()"
   ]
  },
  {
   "cell_type": "markdown",
   "metadata": {},
   "source": [
    "# 3.6.3 Multiple Linear Regression"
   ]
  },
  {
   "cell_type": "markdown",
   "metadata": {},
   "source": [
    "#### Multiple linear regression with two predictor variables\n",
    "In multiple linear regression, more than one predictor variable is used to create a model that fits the data. I used two predictors, lstat and age to create a model below. "
   ]
  },
  {
   "cell_type": "code",
   "execution_count": 10,
   "metadata": {
    "scrolled": false
   },
   "outputs": [
    {
     "name": "stdout",
     "output_type": "stream",
     "text": [
      "                            OLS Regression Results                            \n",
      "==============================================================================\n",
      "Dep. Variable:                   medv   R-squared:                       0.551\n",
      "Model:                            OLS   Adj. R-squared:                  0.549\n",
      "Method:                 Least Squares   F-statistic:                     309.0\n",
      "Date:                Tue, 23 Mar 2021   Prob (F-statistic):           2.98e-88\n",
      "Time:                        20:54:54   Log-Likelihood:                -1637.5\n",
      "No. Observations:                 506   AIC:                             3281.\n",
      "Df Residuals:                     503   BIC:                             3294.\n",
      "Df Model:                           2                                         \n",
      "Covariance Type:            nonrobust                                         \n",
      "==============================================================================\n",
      "                 coef    std err          t      P>|t|      [0.025      0.975]\n",
      "------------------------------------------------------------------------------\n",
      "Intercept     33.2228      0.731     45.458      0.000      31.787      34.659\n",
      "lstat         -1.0321      0.048    -21.416      0.000      -1.127      -0.937\n",
      "age            0.0345      0.012      2.826      0.005       0.011       0.059\n",
      "==============================================================================\n",
      "Omnibus:                      124.288   Durbin-Watson:                   0.945\n",
      "Prob(Omnibus):                  0.000   Jarque-Bera (JB):              244.026\n",
      "Skew:                           1.362   Prob(JB):                     1.02e-53\n",
      "Kurtosis:                       5.038   Cond. No.                         201.\n",
      "==============================================================================\n",
      "\n",
      "Notes:\n",
      "[1] Standard Errors assume that the covariance matrix of the errors is correctly specified.\n"
     ]
    }
   ],
   "source": [
    "fit2 = smf.ols('medv~lstat+age', data=data).fit()\n",
    "print(fit2.summary())"
   ]
  },
  {
   "cell_type": "markdown",
   "metadata": {},
   "source": [
    "There is no improvement in this model compared to the model that used only lstat as a predictor. This is also evident from the p-value of **age**, which indicates it does not have a significant influence on the output/response **medv** (I do not plot the fitted line to the data as I use multiple predictor variables and this is hard to visualize in a 2-d space)"
   ]
  },
  {
   "cell_type": "markdown",
   "metadata": {},
   "source": [
    "#### F-statistic\n",
    "When we use multiple predictor variables, we use the F-statistic instead of the t-statistic to compute the p-values as our null hypothesis changes. \n",
    "\n",
    "We assume the null hypothesis to be \n",
    "\n",
    "$$\\text{H_{0}: There is no relationship between lstat and medv or between age and medv}$$\n",
    "\n",
    "versus the alternate hypothesis \n",
    "\n",
    "$$\\text{H_{a}: There exists some relationship between lstat and medv and also a relationship between age and medv}$$\n",
    "\n",
    "\n",
    "If ${\\beta_{1}}$ is the true coefficient of lstat and ${\\beta_{2}}$ is the true coefficient of age when the linear regression model is fitted to the data, then\n",
    "\n",
    "$$H_{0}: \\beta_{1} = \\beta_{2} = 0 $$ versus\n",
    "$$H_{a}: \\text{at least one $\\beta_{j}$ is non-zero} $$\n",
    "\n",
    "The F-statistic is defined as \n",
    "$$ t = \\frac{(TSS - RSS)/p)}{RSS/(n-p-1)} $$\n",
    "\n",
    "where $p$ = number of predictor values, $n$ = number of datapoints,  $TSS = \\sum(y_{i} - \\hat{y})^2$ and $RSS = (y_{i} - \\hat{y_{i}})^2$. \n",
    "\n",
    "Hence if there is no value between the output/response and predictor variables, the F-statistic will have a value close to 1. If $H_{a}$ is true, the value will be greater than 1 which it is in this case. The value of the F-statistic needed to reject $H_{0}$ can be computed by statistical software. When $n$ is large, an F-statistic that is slightly larger than 1 is sufficient. \n",
    "\n",
    "\n",
    "#### Why do we use F-statistic if we already have the individual p values and can use this to determine the significant variables?\n",
    "\n",
    "Consider a case where $p$ = 100 and $H_{0}: \\beta_{1} = \\beta_{2} = ... = \\beta_{j}$ = 0. No predictor variable is associated with the response but there is still a chance for one of the p-values to be below 0.05, leading us to incorrectly conclude there is a relationship between one of the predictors and the response if we use the t-statistic as it is given be $ t = (\\hat{\\beta} -  0) / SE(x) $ and does not take the number of variables into account. \n",
    "\n",
    "But the F-statistic also adjusts for the number of predictors so we can use the F-statistic to confidently accept/reject the null hypothesis. (This example is taken from the book, Introduction to Statistical Learning)."
   ]
  },
  {
   "cell_type": "markdown",
   "metadata": {},
   "source": [
    "#### Multiple Linear Regression with all predictor variables\n",
    "\n",
    "Fitting a multiple linear regression model with all the predictors: \n",
    "(String manipulation is used as it is cumbersome to type out the names of all the columns)"
   ]
  },
  {
   "cell_type": "code",
   "execution_count": 11,
   "metadata": {
    "scrolled": false
   },
   "outputs": [
    {
     "name": "stdout",
     "output_type": "stream",
     "text": [
      "                            OLS Regression Results                            \n",
      "==============================================================================\n",
      "Dep. Variable:                   medv   R-squared:                       0.741\n",
      "Model:                            OLS   Adj. R-squared:                  0.734\n",
      "Method:                 Least Squares   F-statistic:                     108.1\n",
      "Date:                Tue, 23 Mar 2021   Prob (F-statistic):          6.72e-135\n",
      "Time:                        20:55:00   Log-Likelihood:                -1498.8\n",
      "No. Observations:                 506   AIC:                             3026.\n",
      "Df Residuals:                     492   BIC:                             3085.\n",
      "Df Model:                          13                                         \n",
      "Covariance Type:            nonrobust                                         \n",
      "==============================================================================\n",
      "                 coef    std err          t      P>|t|      [0.025      0.975]\n",
      "------------------------------------------------------------------------------\n",
      "Intercept     36.4595      5.103      7.144      0.000      26.432      46.487\n",
      "age            0.0007      0.013      0.052      0.958      -0.025       0.027\n",
      "black          0.0093      0.003      3.467      0.001       0.004       0.015\n",
      "chas           2.6867      0.862      3.118      0.002       0.994       4.380\n",
      "crim          -0.1080      0.033     -3.287      0.001      -0.173      -0.043\n",
      "dis           -1.4756      0.199     -7.398      0.000      -1.867      -1.084\n",
      "indus          0.0206      0.061      0.334      0.738      -0.100       0.141\n",
      "lstat         -0.5248      0.051    -10.347      0.000      -0.624      -0.425\n",
      "nox          -17.7666      3.820     -4.651      0.000     -25.272     -10.262\n",
      "ptratio       -0.9527      0.131     -7.283      0.000      -1.210      -0.696\n",
      "rad            0.3060      0.066      4.613      0.000       0.176       0.436\n",
      "rm             3.8099      0.418      9.116      0.000       2.989       4.631\n",
      "tax           -0.0123      0.004     -3.280      0.001      -0.020      -0.005\n",
      "zn             0.0464      0.014      3.382      0.001       0.019       0.073\n",
      "==============================================================================\n",
      "Omnibus:                      178.041   Durbin-Watson:                   1.078\n",
      "Prob(Omnibus):                  0.000   Jarque-Bera (JB):              783.126\n",
      "Skew:                           1.521   Prob(JB):                    8.84e-171\n",
      "Kurtosis:                       8.281   Cond. No.                     1.51e+04\n",
      "==============================================================================\n",
      "\n",
      "Notes:\n",
      "[1] Standard Errors assume that the covariance matrix of the errors is correctly specified.\n",
      "[2] The condition number is large, 1.51e+04. This might indicate that there are\n",
      "strong multicollinearity or other numerical problems.\n"
     ]
    }
   ],
   "source": [
    "columns = \"+\".join(data.columns.difference(['medv']))\n",
    "formula = \"medv~\" + columns\n",
    "fit2 = smf.ols(formula=formula, data=data).fit()\n",
    "print(fit2.summary())"
   ]
  },
  {
   "cell_type": "markdown",
   "metadata": {},
   "source": [
    "It is observed that the R-squared value increases when using all the predictor variables. "
   ]
  },
  {
   "cell_type": "markdown",
   "metadata": {},
   "source": [
    "The standard error for each of the predictor values is given by"
   ]
  },
  {
   "cell_type": "code",
   "execution_count": 31,
   "metadata": {},
   "outputs": [
    {
     "data": {
      "text/plain": [
       "Intercept    5.103459\n",
       "age          0.013210\n",
       "black        0.002686\n",
       "chas         0.861580\n",
       "crim         0.032865\n",
       "dis          0.199455\n",
       "indus        0.061496\n",
       "lstat        0.050715\n",
       "nox          3.819744\n",
       "ptratio      0.130827\n",
       "rad          0.066346\n",
       "rm           0.417925\n",
       "tax          0.003761\n",
       "zn           0.013727\n",
       "dtype: float64"
      ]
     },
     "execution_count": 31,
     "metadata": {},
     "output_type": "execute_result"
    }
   ],
   "source": [
    "fit2.bse"
   ]
  },
  {
   "cell_type": "markdown",
   "metadata": {},
   "source": [
    "I noticed the p-values of age and indus predictor variables are large, hence I fitted a new line without them. There is a large improvement in the R-squared statistic, indicating this model fits the data better. I also tried using only the most significant variables but there is no significant difference in the result between using this vs. using all predictor variables. "
   ]
  },
  {
   "cell_type": "code",
   "execution_count": 12,
   "metadata": {},
   "outputs": [
    {
     "name": "stdout",
     "output_type": "stream",
     "text": [
      "                            OLS Regression Results                            \n",
      "==============================================================================\n",
      "Dep. Variable:                   medv   R-squared:                       0.741\n",
      "Model:                            OLS   Adj. R-squared:                  0.735\n",
      "Method:                 Least Squares   F-statistic:                     128.2\n",
      "Date:                Tue, 23 Mar 2021   Prob (F-statistic):          5.54e-137\n",
      "Time:                        20:55:03   Log-Likelihood:                -1498.9\n",
      "No. Observations:                 506   AIC:                             3022.\n",
      "Df Residuals:                     494   BIC:                             3072.\n",
      "Df Model:                          11                                         \n",
      "Covariance Type:            nonrobust                                         \n",
      "==============================================================================\n",
      "                 coef    std err          t      P>|t|      [0.025      0.975]\n",
      "------------------------------------------------------------------------------\n",
      "Intercept     36.3411      5.067      7.171      0.000      26.385      46.298\n",
      "black          0.0093      0.003      3.475      0.001       0.004       0.015\n",
      "chas           2.7187      0.854      3.183      0.002       1.040       4.397\n",
      "crim          -0.1084      0.033     -3.307      0.001      -0.173      -0.044\n",
      "dis           -1.4927      0.186     -8.037      0.000      -1.858      -1.128\n",
      "lstat         -0.5226      0.047    -11.019      0.000      -0.616      -0.429\n",
      "nox          -17.3760      3.535     -4.915      0.000     -24.322     -10.430\n",
      "ptratio       -0.9465      0.129     -7.334      0.000      -1.200      -0.693\n",
      "rad            0.2996      0.063      4.726      0.000       0.175       0.424\n",
      "rm             3.8016      0.406      9.356      0.000       3.003       4.600\n",
      "tax           -0.0118      0.003     -3.493      0.001      -0.018      -0.005\n",
      "zn             0.0458      0.014      3.390      0.001       0.019       0.072\n",
      "==============================================================================\n",
      "Omnibus:                      178.430   Durbin-Watson:                   1.078\n",
      "Prob(Omnibus):                  0.000   Jarque-Bera (JB):              787.785\n",
      "Skew:                           1.523   Prob(JB):                    8.60e-172\n",
      "Kurtosis:                       8.300   Cond. No.                     1.47e+04\n",
      "==============================================================================\n",
      "\n",
      "Notes:\n",
      "[1] Standard Errors assume that the covariance matrix of the errors is correctly specified.\n",
      "[2] The condition number is large, 1.47e+04. This might indicate that there are\n",
      "strong multicollinearity or other numerical problems.\n"
     ]
    }
   ],
   "source": [
    "columns = \"+\".join(data.columns.difference(['medv', 'age', 'indus']))\n",
    "formula = \"medv~\" + columns\n",
    "fit3 = smf.ols(formula=formula, data=data).fit()\n",
    "print(fit3.summary())"
   ]
  },
  {
   "cell_type": "markdown",
   "metadata": {},
   "source": [
    "# 3.6.4 Interaction terms"
   ]
  },
  {
   "cell_type": "markdown",
   "metadata": {},
   "source": [
    "Linear regression makes an additive assumption, i.e the effect of a predictor variable $X_{j}$\n",
    "on the output $y$ is independent of other predictor variables. This is not always true. \n",
    "\n",
    "Interaction terms take into account the effect of multiple variables. For example if I take  "
   ]
  },
  {
   "cell_type": "markdown",
   "metadata": {},
   "source": [
    "$$y = \\beta_{0} + \\beta_{1}*x_{1} + \\beta_{2}*x_{2}$$  \n",
    "and \n",
    "$$y = \\beta_{0} + \\beta_{1}*x_{1} + \\beta_{2}*x_{2}  + \\beta_3*x_1*x_{2}$$\n",
    "$$y = \\beta_{0} + (\\beta_{1} + \\beta_{2}*x_2)*x_{1} + + \\beta_{2}*x_{2}$$"
   ]
  },
  {
   "cell_type": "markdown",
   "metadata": {},
   "source": [
    "\n",
    "Now, in the second set of equations if $x_{2}$ changes, the effect of $x_{1}$ on y also changes. \n",
    "Here, using the * operator includes the individual terms that make up the interaction term so the equation is \n",
    "$$medv = lstat + rm + lstat*rm$$."
   ]
  },
  {
   "cell_type": "code",
   "execution_count": 13,
   "metadata": {
    "scrolled": false
   },
   "outputs": [
    {
     "name": "stdout",
     "output_type": "stream",
     "text": [
      "                            OLS Regression Results                            \n",
      "==============================================================================\n",
      "Dep. Variable:                   medv   R-squared:                       0.757\n",
      "Model:                            OLS   Adj. R-squared:                  0.754\n",
      "Method:                 Least Squares   F-statistic:                     258.7\n",
      "Date:                Tue, 23 Mar 2021   Prob (F-statistic):          1.19e-149\n",
      "Time:                        20:55:08   Log-Likelihood:                -1482.6\n",
      "No. Observations:                 506   AIC:                             2979.\n",
      "Df Residuals:                     499   BIC:                             3009.\n",
      "Df Model:                           6                                         \n",
      "Covariance Type:            nonrobust                                         \n",
      "==============================================================================\n",
      "                 coef    std err          t      P>|t|      [0.025      0.975]\n",
      "------------------------------------------------------------------------------\n",
      "Intercept    -31.8108      3.421     -9.300      0.000     -38.531     -25.090\n",
      "lstat          2.2467      0.203     11.075      0.000       1.848       2.645\n",
      "rm            10.0448      0.515     19.511      0.000       9.033      11.056\n",
      "lstat:rm      -0.4897      0.034    -14.369      0.000      -0.557      -0.423\n",
      "chas          47.5289     10.986      4.326      0.000      25.944      69.114\n",
      "lstat:chas    -0.5822      0.184     -3.170      0.002      -0.943      -0.221\n",
      "chas:rm       -5.7829      1.434     -4.032      0.000      -8.601      -2.965\n",
      "==============================================================================\n",
      "Omnibus:                      216.222   Durbin-Watson:                   1.081\n",
      "Prob(Omnibus):                  0.000   Jarque-Bera (JB):             1819.744\n",
      "Skew:                           1.644   Prob(JB):                         0.00\n",
      "Kurtosis:                      11.689   Cond. No.                     4.77e+03\n",
      "==============================================================================\n",
      "\n",
      "Notes:\n",
      "[1] Standard Errors assume that the covariance matrix of the errors is correctly specified.\n",
      "[2] The condition number is large, 4.77e+03. This might indicate that there are\n",
      "strong multicollinearity or other numerical problems.\n"
     ]
    }
   ],
   "source": [
    "fit4 = smf.ols('medv~lstat*rm + lstat*chas + chas*rm', data=data).fit()\n",
    "print(fit4.summary())"
   ]
  },
  {
   "cell_type": "markdown",
   "metadata": {},
   "source": [
    "It is observed using the interaction terms improves the results (specifically the R-squared statistic from 0.741 with all variables to 0.757 with only 3 predictor variables and their interaction terms). This indicates the additive assumption cannot be made here. "
   ]
  },
  {
   "cell_type": "markdown",
   "metadata": {},
   "source": [
    "# 3.6.5 Non-linear transformations of predictors"
   ]
  },
  {
   "cell_type": "markdown",
   "metadata": {},
   "source": [
    "Linear regression also assumes there is a straight line relationship between the predictors and their response. From the results of simple linear regression and the plot of the data (medv vs. lstat), it appears the data is non-linearly distributed. \n",
    "\n",
    "The linear regression function also accomodates non-linear transformations of the predictor variables. So we can use a non-linear transformation of lstat and check if this model fits the data better. \n",
    "\n",
    "The function I() is required to make sure the formula uses lsat^2 as intended (Trying the formula lstat + lstat^2 gave me the same results as simple linear regression)\n",
    "\n",
    "Fitting the data using nonlinear transformations of predictors:"
   ]
  },
  {
   "cell_type": "code",
   "execution_count": 14,
   "metadata": {
    "scrolled": false
   },
   "outputs": [
    {
     "name": "stdout",
     "output_type": "stream",
     "text": [
      "                            OLS Regression Results                            \n",
      "==============================================================================\n",
      "Dep. Variable:                   medv   R-squared:                       0.641\n",
      "Model:                            OLS   Adj. R-squared:                  0.639\n",
      "Method:                 Least Squares   F-statistic:                     448.5\n",
      "Date:                Tue, 23 Mar 2021   Prob (F-statistic):          1.56e-112\n",
      "Time:                        20:55:12   Log-Likelihood:                -1581.3\n",
      "No. Observations:                 506   AIC:                             3169.\n",
      "Df Residuals:                     503   BIC:                             3181.\n",
      "Df Model:                           2                                         \n",
      "Covariance Type:            nonrobust                                         \n",
      "=================================================================================\n",
      "                    coef    std err          t      P>|t|      [0.025      0.975]\n",
      "---------------------------------------------------------------------------------\n",
      "Intercept        42.8620      0.872     49.149      0.000      41.149      44.575\n",
      "lstat            -2.3328      0.124    -18.843      0.000      -2.576      -2.090\n",
      "I(lstat ** 2)     0.0435      0.004     11.628      0.000       0.036       0.051\n",
      "==============================================================================\n",
      "Omnibus:                      107.006   Durbin-Watson:                   0.921\n",
      "Prob(Omnibus):                  0.000   Jarque-Bera (JB):              228.388\n",
      "Skew:                           1.128   Prob(JB):                     2.55e-50\n",
      "Kurtosis:                       5.397   Cond. No.                     1.13e+03\n",
      "==============================================================================\n",
      "\n",
      "Notes:\n",
      "[1] Standard Errors assume that the covariance matrix of the errors is correctly specified.\n",
      "[2] The condition number is large, 1.13e+03. This might indicate that there are\n",
      "strong multicollinearity or other numerical problems.\n"
     ]
    }
   ],
   "source": [
    "f = 'medv ~ lstat + I(lstat**2)'\n",
    "fit5 = smf.ols(f, data=data).fit()\n",
    "print(fit5.summary())"
   ]
  },
  {
   "cell_type": "code",
   "execution_count": 15,
   "metadata": {},
   "outputs": [
    {
     "name": "stdout",
     "output_type": "stream",
     "text": [
      "                            OLS Regression Results                            \n",
      "==============================================================================\n",
      "Dep. Variable:                   medv   R-squared:                       0.771\n",
      "Model:                            OLS   Adj. R-squared:                  0.767\n",
      "Method:                 Least Squares   F-statistic:                     238.9\n",
      "Date:                Tue, 23 Mar 2021   Prob (F-statistic):          1.05e-154\n",
      "Time:                        20:55:16   Log-Likelihood:                -1467.8\n",
      "No. Observations:                 506   AIC:                             2952.\n",
      "Df Residuals:                     498   BIC:                             2986.\n",
      "Df Model:                           7                                         \n",
      "Covariance Type:            nonrobust                                         \n",
      "=================================================================================\n",
      "                    coef    std err          t      P>|t|      [0.025      0.975]\n",
      "---------------------------------------------------------------------------------\n",
      "Intercept        97.2071     19.881      4.889      0.000      58.146     136.269\n",
      "lstat             0.1349      0.489      0.276      0.783      -0.826       1.096\n",
      "I(lstat ** 2)     0.0108      0.005      2.227      0.026       0.001       0.020\n",
      "rm               27.2090      2.982      9.126      0.000      21.351      33.067\n",
      "lstat:rm         -0.1898      0.062     -3.060      0.002      -0.312      -0.068\n",
      "chas              3.3150      0.785      4.223      0.000       1.773       4.857\n",
      "black             0.0083      0.002      3.390      0.001       0.003       0.013\n",
      "np.log(rm)     -130.0995     20.497     -6.347      0.000    -170.370     -89.829\n",
      "==============================================================================\n",
      "Omnibus:                      161.085   Durbin-Watson:                   0.994\n",
      "Prob(Omnibus):                  0.000   Jarque-Bera (JB):             2491.137\n",
      "Skew:                           0.940   Prob(JB):                         0.00\n",
      "Kurtosis:                      13.706   Cond. No.                     6.37e+04\n",
      "==============================================================================\n",
      "\n",
      "Notes:\n",
      "[1] Standard Errors assume that the covariance matrix of the errors is correctly specified.\n",
      "[2] The condition number is large, 6.37e+04. This might indicate that there are\n",
      "strong multicollinearity or other numerical problems.\n"
     ]
    }
   ],
   "source": [
    "f = 'medv ~ lstat + I(lstat**2) + lstat*rm + chas + black + np.log(rm)'\n",
    "fit6 = smf.ols(f, data=data).fit()\n",
    "print(fit6.summary())"
   ]
  },
  {
   "cell_type": "markdown",
   "metadata": {},
   "source": [
    "#### ANOVA\n",
    "\n",
    "Using ANOVA (Analysis of variance) table to see if the linear or quadratic fit is better. Here the null hypothesis is that both models fit that data equally well, the alternative hypothesis is that the quadratic model is superior. \n",
    "\n",
    "By looking at the sum of squares, the quadratic model is better (The RSS has reduced, the F statistic is 135 and the p-value is extremely small)"
   ]
  },
  {
   "cell_type": "code",
   "execution_count": 18,
   "metadata": {},
   "outputs": [
    {
     "data": {
      "text/html": [
       "<div>\n",
       "<style scoped>\n",
       "    .dataframe tbody tr th:only-of-type {\n",
       "        vertical-align: middle;\n",
       "    }\n",
       "\n",
       "    .dataframe tbody tr th {\n",
       "        vertical-align: top;\n",
       "    }\n",
       "\n",
       "    .dataframe thead th {\n",
       "        text-align: right;\n",
       "    }\n",
       "</style>\n",
       "<table border=\"1\" class=\"dataframe\">\n",
       "  <thead>\n",
       "    <tr style=\"text-align: right;\">\n",
       "      <th></th>\n",
       "      <th>df_resid</th>\n",
       "      <th>ssr</th>\n",
       "      <th>df_diff</th>\n",
       "      <th>ss_diff</th>\n",
       "      <th>F</th>\n",
       "      <th>Pr(&gt;F)</th>\n",
       "    </tr>\n",
       "  </thead>\n",
       "  <tbody>\n",
       "    <tr>\n",
       "      <th>0</th>\n",
       "      <td>504.0</td>\n",
       "      <td>19472.381418</td>\n",
       "      <td>0.0</td>\n",
       "      <td>NaN</td>\n",
       "      <td>NaN</td>\n",
       "      <td>NaN</td>\n",
       "    </tr>\n",
       "    <tr>\n",
       "      <th>1</th>\n",
       "      <td>492.0</td>\n",
       "      <td>11078.784578</td>\n",
       "      <td>12.0</td>\n",
       "      <td>8393.59684</td>\n",
       "      <td>31.062746</td>\n",
       "      <td>6.824831e-53</td>\n",
       "    </tr>\n",
       "  </tbody>\n",
       "</table>\n",
       "</div>"
      ],
      "text/plain": [
       "   df_resid           ssr  df_diff     ss_diff          F        Pr(>F)\n",
       "0     504.0  19472.381418      0.0         NaN        NaN           NaN\n",
       "1     492.0  11078.784578     12.0  8393.59684  31.062746  6.824831e-53"
      ]
     },
     "execution_count": 18,
     "metadata": {},
     "output_type": "execute_result"
    }
   ],
   "source": [
    "table = sm.stats.anova_lm(fit1, fit2)\n",
    "table"
   ]
  },
  {
   "cell_type": "markdown",
   "metadata": {},
   "source": [
    "The quadratic model seems to be a better fit with the high F-squared statistic as well as a low p-value. "
   ]
  },
  {
   "cell_type": "markdown",
   "metadata": {},
   "source": [
    "# 3.6.6 Qualitiative predictors"
   ]
  },
  {
   "cell_type": "code",
   "execution_count": 17,
   "metadata": {},
   "outputs": [
    {
     "data": {
      "text/html": [
       "<div>\n",
       "<style scoped>\n",
       "    .dataframe tbody tr th:only-of-type {\n",
       "        vertical-align: middle;\n",
       "    }\n",
       "\n",
       "    .dataframe tbody tr th {\n",
       "        vertical-align: top;\n",
       "    }\n",
       "\n",
       "    .dataframe thead th {\n",
       "        text-align: right;\n",
       "    }\n",
       "</style>\n",
       "<table border=\"1\" class=\"dataframe\">\n",
       "  <thead>\n",
       "    <tr style=\"text-align: right;\">\n",
       "      <th></th>\n",
       "      <th>Sales</th>\n",
       "      <th>CompPrice</th>\n",
       "      <th>Income</th>\n",
       "      <th>Advertising</th>\n",
       "      <th>Population</th>\n",
       "      <th>Price</th>\n",
       "      <th>ShelveLoc</th>\n",
       "      <th>Age</th>\n",
       "      <th>Education</th>\n",
       "      <th>Urban</th>\n",
       "      <th>US</th>\n",
       "    </tr>\n",
       "  </thead>\n",
       "  <tbody>\n",
       "    <tr>\n",
       "      <th>0</th>\n",
       "      <td>9.50</td>\n",
       "      <td>138</td>\n",
       "      <td>73</td>\n",
       "      <td>11</td>\n",
       "      <td>276</td>\n",
       "      <td>120</td>\n",
       "      <td>Bad</td>\n",
       "      <td>42</td>\n",
       "      <td>17</td>\n",
       "      <td>Yes</td>\n",
       "      <td>Yes</td>\n",
       "    </tr>\n",
       "    <tr>\n",
       "      <th>1</th>\n",
       "      <td>11.22</td>\n",
       "      <td>111</td>\n",
       "      <td>48</td>\n",
       "      <td>16</td>\n",
       "      <td>260</td>\n",
       "      <td>83</td>\n",
       "      <td>Good</td>\n",
       "      <td>65</td>\n",
       "      <td>10</td>\n",
       "      <td>Yes</td>\n",
       "      <td>Yes</td>\n",
       "    </tr>\n",
       "    <tr>\n",
       "      <th>2</th>\n",
       "      <td>10.06</td>\n",
       "      <td>113</td>\n",
       "      <td>35</td>\n",
       "      <td>10</td>\n",
       "      <td>269</td>\n",
       "      <td>80</td>\n",
       "      <td>Medium</td>\n",
       "      <td>59</td>\n",
       "      <td>12</td>\n",
       "      <td>Yes</td>\n",
       "      <td>Yes</td>\n",
       "    </tr>\n",
       "    <tr>\n",
       "      <th>3</th>\n",
       "      <td>7.40</td>\n",
       "      <td>117</td>\n",
       "      <td>100</td>\n",
       "      <td>4</td>\n",
       "      <td>466</td>\n",
       "      <td>97</td>\n",
       "      <td>Medium</td>\n",
       "      <td>55</td>\n",
       "      <td>14</td>\n",
       "      <td>Yes</td>\n",
       "      <td>Yes</td>\n",
       "    </tr>\n",
       "    <tr>\n",
       "      <th>4</th>\n",
       "      <td>4.15</td>\n",
       "      <td>141</td>\n",
       "      <td>64</td>\n",
       "      <td>3</td>\n",
       "      <td>340</td>\n",
       "      <td>128</td>\n",
       "      <td>Bad</td>\n",
       "      <td>38</td>\n",
       "      <td>13</td>\n",
       "      <td>Yes</td>\n",
       "      <td>No</td>\n",
       "    </tr>\n",
       "    <tr>\n",
       "      <th>...</th>\n",
       "      <td>...</td>\n",
       "      <td>...</td>\n",
       "      <td>...</td>\n",
       "      <td>...</td>\n",
       "      <td>...</td>\n",
       "      <td>...</td>\n",
       "      <td>...</td>\n",
       "      <td>...</td>\n",
       "      <td>...</td>\n",
       "      <td>...</td>\n",
       "      <td>...</td>\n",
       "    </tr>\n",
       "    <tr>\n",
       "      <th>395</th>\n",
       "      <td>12.57</td>\n",
       "      <td>138</td>\n",
       "      <td>108</td>\n",
       "      <td>17</td>\n",
       "      <td>203</td>\n",
       "      <td>128</td>\n",
       "      <td>Good</td>\n",
       "      <td>33</td>\n",
       "      <td>14</td>\n",
       "      <td>Yes</td>\n",
       "      <td>Yes</td>\n",
       "    </tr>\n",
       "    <tr>\n",
       "      <th>396</th>\n",
       "      <td>6.14</td>\n",
       "      <td>139</td>\n",
       "      <td>23</td>\n",
       "      <td>3</td>\n",
       "      <td>37</td>\n",
       "      <td>120</td>\n",
       "      <td>Medium</td>\n",
       "      <td>55</td>\n",
       "      <td>11</td>\n",
       "      <td>No</td>\n",
       "      <td>Yes</td>\n",
       "    </tr>\n",
       "    <tr>\n",
       "      <th>397</th>\n",
       "      <td>7.41</td>\n",
       "      <td>162</td>\n",
       "      <td>26</td>\n",
       "      <td>12</td>\n",
       "      <td>368</td>\n",
       "      <td>159</td>\n",
       "      <td>Medium</td>\n",
       "      <td>40</td>\n",
       "      <td>18</td>\n",
       "      <td>Yes</td>\n",
       "      <td>Yes</td>\n",
       "    </tr>\n",
       "    <tr>\n",
       "      <th>398</th>\n",
       "      <td>5.94</td>\n",
       "      <td>100</td>\n",
       "      <td>79</td>\n",
       "      <td>7</td>\n",
       "      <td>284</td>\n",
       "      <td>95</td>\n",
       "      <td>Bad</td>\n",
       "      <td>50</td>\n",
       "      <td>12</td>\n",
       "      <td>Yes</td>\n",
       "      <td>Yes</td>\n",
       "    </tr>\n",
       "    <tr>\n",
       "      <th>399</th>\n",
       "      <td>9.71</td>\n",
       "      <td>134</td>\n",
       "      <td>37</td>\n",
       "      <td>0</td>\n",
       "      <td>27</td>\n",
       "      <td>120</td>\n",
       "      <td>Good</td>\n",
       "      <td>49</td>\n",
       "      <td>16</td>\n",
       "      <td>Yes</td>\n",
       "      <td>Yes</td>\n",
       "    </tr>\n",
       "  </tbody>\n",
       "</table>\n",
       "<p>400 rows × 11 columns</p>\n",
       "</div>"
      ],
      "text/plain": [
       "     Sales  CompPrice  Income  Advertising  Population  Price ShelveLoc  Age  \\\n",
       "0     9.50        138      73           11         276    120       Bad   42   \n",
       "1    11.22        111      48           16         260     83      Good   65   \n",
       "2    10.06        113      35           10         269     80    Medium   59   \n",
       "3     7.40        117     100            4         466     97    Medium   55   \n",
       "4     4.15        141      64            3         340    128       Bad   38   \n",
       "..     ...        ...     ...          ...         ...    ...       ...  ...   \n",
       "395  12.57        138     108           17         203    128      Good   33   \n",
       "396   6.14        139      23            3          37    120    Medium   55   \n",
       "397   7.41        162      26           12         368    159    Medium   40   \n",
       "398   5.94        100      79            7         284     95       Bad   50   \n",
       "399   9.71        134      37            0          27    120      Good   49   \n",
       "\n",
       "     Education Urban   US  \n",
       "0           17   Yes  Yes  \n",
       "1           10   Yes  Yes  \n",
       "2           12   Yes  Yes  \n",
       "3           14   Yes  Yes  \n",
       "4           13   Yes   No  \n",
       "..         ...   ...  ...  \n",
       "395         14   Yes  Yes  \n",
       "396         11    No  Yes  \n",
       "397         18   Yes  Yes  \n",
       "398         12   Yes  Yes  \n",
       "399         16   Yes  Yes  \n",
       "\n",
       "[400 rows x 11 columns]"
      ]
     },
     "execution_count": 17,
     "metadata": {},
     "output_type": "execute_result"
    }
   ],
   "source": [
    "path = 'Data/Carseats.csv'\n",
    "carseats = pd.read_csv('Data/Carseats.csv')\n",
    "carseats = carseats.drop(columns = ['Unnamed: 0'])\n",
    "carseats"
   ]
  },
  {
   "cell_type": "markdown",
   "metadata": {},
   "source": [
    "Here, qualitative predictors like ShelveLoc, Urban and US are also used by the model. Dummy variables are created within Python to deal with these kind of values. The value taken to represent Good, Bad and Medium in ShelveLoc will change the coefficients for that predictors but the final predictions will be the same. "
   ]
  },
  {
   "cell_type": "markdown",
   "metadata": {},
   "source": [
    "Sales is predicted using the predictor variables in the above table. \n",
    "$Income:Advertising$ includes an interaction term that consists of $Income * Advertising$"
   ]
  },
  {
   "cell_type": "code",
   "execution_count": 20,
   "metadata": {
    "scrolled": false
   },
   "outputs": [
    {
     "name": "stdout",
     "output_type": "stream",
     "text": [
      "                            OLS Regression Results                            \n",
      "==============================================================================\n",
      "Dep. Variable:                  Sales   R-squared:                       0.876\n",
      "Model:                            OLS   Adj. R-squared:                  0.872\n",
      "Method:                 Least Squares   F-statistic:                     210.0\n",
      "Date:                Tue, 23 Mar 2021   Prob (F-statistic):          6.14e-166\n",
      "Time:                        06:14:05   Log-Likelihood:                -564.67\n",
      "No. Observations:                 400   AIC:                             1157.\n",
      "Df Residuals:                     386   BIC:                             1213.\n",
      "Df Model:                          13                                         \n",
      "Covariance Type:            nonrobust                                         \n",
      "=======================================================================================\n",
      "                          coef    std err          t      P>|t|      [0.025      0.975]\n",
      "---------------------------------------------------------------------------------------\n",
      "Intercept               6.5756      1.009      6.519      0.000       4.592       8.559\n",
      "ShelveLoc[T.Good]       4.8487      0.153     31.724      0.000       4.548       5.149\n",
      "ShelveLoc[T.Medium]     1.9533      0.126     15.531      0.000       1.706       2.201\n",
      "US[T.Yes]              -0.1576      0.149     -1.058      0.291      -0.450       0.135\n",
      "Urban[T.Yes]            0.1402      0.112      1.247      0.213      -0.081       0.361\n",
      "Income:Advertising      0.0008      0.000      2.698      0.007       0.000       0.001\n",
      "Price:Age               0.0001      0.000      0.801      0.424      -0.000       0.000\n",
      "Advertising             0.0702      0.023      3.107      0.002       0.026       0.115\n",
      "Age                    -0.0579      0.016     -3.633      0.000      -0.089      -0.027\n",
      "CompPrice               0.0929      0.004     22.567      0.000       0.085       0.101\n",
      "Education              -0.0209      0.020     -1.063      0.288      -0.059       0.018\n",
      "Income                  0.0109      0.003      4.183      0.000       0.006       0.016\n",
      "Population              0.0002      0.000      0.433      0.665      -0.001       0.001\n",
      "Price                  -0.1008      0.007    -13.549      0.000      -0.115      -0.086\n",
      "==============================================================================\n",
      "Omnibus:                        1.281   Durbin-Watson:                   2.047\n",
      "Prob(Omnibus):                  0.527   Jarque-Bera (JB):                1.147\n",
      "Skew:                           0.129   Prob(JB):                        0.564\n",
      "Kurtosis:                       3.050   Cond. No.                     1.31e+05\n",
      "==============================================================================\n",
      "\n",
      "Notes:\n",
      "[1] Standard Errors assume that the covariance matrix of the errors is correctly specified.\n",
      "[2] The condition number is large, 1.31e+05. This might indicate that there are\n",
      "strong multicollinearity or other numerical problems.\n"
     ]
    }
   ],
   "source": [
    "columns = \"+\".join(carseats.columns.difference(['Sales']))\n",
    "f = 'Sales ~ Income:Advertising+Price:Age+' + columns\n",
    "fit = smf.ols(f, data=carseats).fit()\n",
    "print(fit.summary())"
   ]
  },
  {
   "cell_type": "markdown",
   "metadata": {},
   "source": [
    "##### Appendix:\n",
    "\n",
    "1. From dataset documentation in Table IV of Harrison & Rubin (1978), LSTAT is defined as:\n",
    "    Proportion of population that is lower status = 1/2 (proportion of adults without, some high school education and proportion of male workers classified as laborers). The logarithmic specification implies that socioeconomic status distinctions mean more in the upper brackets of society than in the lower classes. Source: 1970 U. S. Census\n",
    "    Harrison Jr, David, and Daniel L. Rubinfeld. \"Hedonic housing prices and the demand for clean air.\" Journal of environmental economics and management 5, no. 1 (1978): 81-102."
   ]
  }
 ],
 "metadata": {
  "kernelspec": {
   "display_name": "Python 3",
   "language": "python",
   "name": "python3"
  },
  "language_info": {
   "codemirror_mode": {
    "name": "ipython",
    "version": 3
   },
   "file_extension": ".py",
   "mimetype": "text/x-python",
   "name": "python",
   "nbconvert_exporter": "python",
   "pygments_lexer": "ipython3",
   "version": "3.8.5"
  }
 },
 "nbformat": 4,
 "nbformat_minor": 4
}
